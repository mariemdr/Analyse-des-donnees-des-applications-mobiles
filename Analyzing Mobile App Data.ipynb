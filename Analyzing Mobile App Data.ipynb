{
 "cells": [
  {
   "cell_type": "markdown",
   "id": "765269e2",
   "metadata": {},
   "source": [
    "## <font color='purple'> Analyse des donnees d'applications mobiles </font>"
   ]
  },
  {
   "cell_type": "markdown",
   "id": "e7bb727a",
   "metadata": {},
   "source": [
    "### Dans ce projet, nous allons analyser des données sur les applications de Google play et App Store dans le but d'aider les developeurs d'applications mobile de mieux comprendre les types d'applications préférées et les plus utlisées par les utilisateurs afin de créer une application et  la mettre en  Google play et App Store."
   ]
  },
  {
   "cell_type": "markdown",
   "id": "632839a2",
   "metadata": {},
   "source": [
    "## <font color='cornflowerblue'>Importer et Explorer les donnees</font>"
   ]
  },
  {
   "cell_type": "code",
   "execution_count": 1,
   "id": "0d5fbae9",
   "metadata": {},
   "outputs": [
    {
     "name": "stdout",
     "output_type": "stream",
     "text": [
      "[['id', 'track_name', 'size_bytes', 'currency', 'price', 'rating_count_tot', 'rating_count_ver', 'user_rating', 'user_rating_ver', 'ver', 'cont_rating', 'prime_genre', 'sup_devices.num', 'ipadSc_urls.num', 'lang.num', 'vpp_lic'], ['284882215', 'Facebook', '389879808', 'USD', '0.0', '2974676', '212', '3.5', '3.5', '95.0', '4+', 'Social Networking', '37', '1', '29', '1'], ['389801252', 'Instagram', '113954816', 'USD', '0.0', '2161558', '1289', '4.5', '4.0', '10.23', '12+', 'Photo & Video', '37', '0', '29', '1'], ['529479190', 'Clash of Clans', '116476928', 'USD', '0.0', '2130805', '579', '4.5', '4.5', '9.24.12', '9+', 'Games', '38', '5', '18', '1']]\n"
     ]
    }
   ],
   "source": [
    "from csv import reader\n",
    "file1=open('AppleStore.csv', encoding=\"utf8\")\n",
    "data_ios=reader(file1)\n",
    "data_list_ios=list(data_ios)\n",
    "print(data_list_ios[:4])"
   ]
  },
  {
   "cell_type": "code",
   "execution_count": 2,
   "id": "4f7a6a3d",
   "metadata": {},
   "outputs": [
    {
     "name": "stdout",
     "output_type": "stream",
     "text": [
      "[['App', 'Category', 'Rating', 'Reviews', 'Size', 'Installs', 'Type', 'Price', 'Content Rating', 'Genres', 'Last Updated', 'Current Ver', 'Android Ver'], ['Photo Editor & Candy Camera & Grid & ScrapBook', 'ART_AND_DESIGN', '4.1', '159', '19M', '10,000+', 'Free', '0', 'Everyone', 'Art & Design', 'January 7, 2018', '1.0.0', '4.0.3 and up'], ['Coloring book moana', 'ART_AND_DESIGN', '3.9', '967', '14M', '500,000+', 'Free', '0', 'Everyone', 'Art & Design;Pretend Play', 'January 15, 2018', '2.0.0', '4.0.3 and up'], ['U Launcher Lite – FREE Live Cool Themes, Hide Apps', 'ART_AND_DESIGN', '4.7', '87510', '8.7M', '5,000,000+', 'Free', '0', 'Everyone', 'Art & Design', 'August 1, 2018', '1.2.4', '4.0.3 and up']]\n"
     ]
    }
   ],
   "source": [
    "file2=open('googleplaystore.csv', encoding=\"utf8\")\n",
    "data_android=reader(file2)\n",
    "data_list_android=list(data_android)\n",
    "print(data_list_android[:4])"
   ]
  },
  {
   "cell_type": "code",
   "execution_count": 3,
   "id": "92d6988d",
   "metadata": {},
   "outputs": [],
   "source": [
    "def explore_data(dataset,start,end,rows_and_columns=False):\n",
    "    dataset_slice=dataset[start:end]\n",
    "    for row in dataset_slice:\n",
    "        print(row)\n",
    "        print('\\n')\n",
    "        \n",
    "    if rows_and_columns:\n",
    "        print('Number of rows:',len(dataset))\n",
    "        print('Number of columns:',len(dataset[0]))"
   ]
  },
  {
   "cell_type": "code",
   "execution_count": 4,
   "id": "4c2e29a4",
   "metadata": {},
   "outputs": [
    {
     "name": "stdout",
     "output_type": "stream",
     "text": [
      "['284882215', 'Facebook', '389879808', 'USD', '0.0', '2974676', '212', '3.5', '3.5', '95.0', '4+', 'Social Networking', '37', '1', '29', '1']\n",
      "\n",
      "\n",
      "['389801252', 'Instagram', '113954816', 'USD', '0.0', '2161558', '1289', '4.5', '4.0', '10.23', '12+', 'Photo & Video', '37', '0', '29', '1']\n",
      "\n",
      "\n",
      "['529479190', 'Clash of Clans', '116476928', 'USD', '0.0', '2130805', '579', '4.5', '4.5', '9.24.12', '9+', 'Games', '38', '5', '18', '1']\n",
      "\n",
      "\n"
     ]
    }
   ],
   "source": [
    "explore_data(data_list_ios,1,4,False)"
   ]
  },
  {
   "cell_type": "code",
   "execution_count": 5,
   "id": "d88a08be",
   "metadata": {},
   "outputs": [
    {
     "name": "stdout",
     "output_type": "stream",
     "text": [
      "['Photo Editor & Candy Camera & Grid & ScrapBook', 'ART_AND_DESIGN', '4.1', '159', '19M', '10,000+', 'Free', '0', 'Everyone', 'Art & Design', 'January 7, 2018', '1.0.0', '4.0.3 and up']\n",
      "\n",
      "\n",
      "['Coloring book moana', 'ART_AND_DESIGN', '3.9', '967', '14M', '500,000+', 'Free', '0', 'Everyone', 'Art & Design;Pretend Play', 'January 15, 2018', '2.0.0', '4.0.3 and up']\n",
      "\n",
      "\n",
      "['U Launcher Lite – FREE Live Cool Themes, Hide Apps', 'ART_AND_DESIGN', '4.7', '87510', '8.7M', '5,000,000+', 'Free', '0', 'Everyone', 'Art & Design', 'August 1, 2018', '1.2.4', '4.0.3 and up']\n",
      "\n",
      "\n"
     ]
    }
   ],
   "source": [
    "explore_data(data_list_android,1,4,False)"
   ]
  },
  {
   "cell_type": "code",
   "execution_count": 6,
   "id": "89087934",
   "metadata": {
    "scrolled": true
   },
   "outputs": [
    {
     "name": "stdout",
     "output_type": "stream",
     "text": [
      "Dataset : 1 \n",
      " Data set columns name:\n",
      "id\n",
      "track_name\n",
      "size_bytes\n",
      "currency\n",
      "price\n",
      "rating_count_tot\n",
      "rating_count_ver\n",
      "user_rating\n",
      "user_rating_ver\n",
      "ver\n",
      "cont_rating\n",
      "prime_genre\n",
      "sup_devices.num\n",
      "ipadSc_urls.num\n",
      "lang.num\n",
      "vpp_lic\n",
      "For more details about columns description, check this link: https://www.kaggle.com/datasets/ramamet4/app-store-apple-data-set-10k-apps \n",
      "\n",
      "Dataset : 2 \n",
      " Data set columns name:\n",
      "App\n",
      "Category\n",
      "Rating\n",
      "Reviews\n",
      "Size\n",
      "Installs\n",
      "Type\n",
      "Price\n",
      "Content Rating\n",
      "Genres\n",
      "Last Updated\n",
      "Current Ver\n",
      "Android Ver\n",
      "For more details about columns description, check this link: https://www.kaggle.com/datasets/lava18/google-play-store-apps \n",
      "\n"
     ]
    }
   ],
   "source": [
    "#columns name and link\n",
    "\n",
    "links=['https://www.kaggle.com/datasets/ramamet4/app-store-apple-data-set-10k-apps','https://www.kaggle.com/datasets/lava18/google-play-store-apps']\n",
    "datasets=[data_list_ios,data_list_android]\n",
    "\n",
    "x=0\n",
    "for dt in datasets:\n",
    "    print('Dataset :',x+1,'\\n Data set columns name:')\n",
    "    for column_name in dt[0]:\n",
    "        print(column_name)\n",
    "    print('For more details about columns description, check this link:',links[x],'\\n')\n",
    "    x+=1\n",
    "    "
   ]
  },
  {
   "cell_type": "markdown",
   "id": "059648b4",
   "metadata": {},
   "source": [
    "## <font color='cornflowerblue'>Nettoyage des donnees</font>"
   ]
  },
  {
   "cell_type": "markdown",
   "id": "8ac1ec30",
   "metadata": {},
   "source": [
    "### <font color='red'>Supprimer les lignes redondantes</font>"
   ]
  },
  {
   "cell_type": "markdown",
   "id": "49645c8d",
   "metadata": {},
   "source": [
    "#### Dans le dataset  data_list_android , nous avons constaté qu'il y a une redondance de lignes, parmi les applications en double que nous avons trouvées cette exemple :"
   ]
  },
  {
   "cell_type": "code",
   "execution_count": 7,
   "id": "3d81da99",
   "metadata": {},
   "outputs": [
    {
     "name": "stdout",
     "output_type": "stream",
     "text": [
      "entrer le nom d'application : netflix\n",
      "['Netflix', 'ENTERTAINMENT', '4.4', '5456208', 'Varies with device', '100,000,000+', 'Free', '0', 'Teen', 'Entertainment', 'July 31, 2018', 'Varies with device', 'Varies with device']\n",
      "['Netflix', 'ENTERTAINMENT', '4.4', '5456208', 'Varies with device', '100,000,000+', 'Free', '0', 'Teen', 'Entertainment', 'July 31, 2018', 'Varies with device', 'Varies with device']\n",
      "['Netflix', 'ENTERTAINMENT', '4.4', '5456599', 'Varies with device', '100,000,000+', 'Free', '0', 'Teen', 'Entertainment', 'July 31, 2018', 'Varies with device', 'Varies with device']\n",
      "['Netflix', 'ENTERTAINMENT', '4.4', '5456708', 'Varies with device', '100,000,000+', 'Free', '0', 'Teen', 'Entertainment', 'July 31, 2018', 'Varies with device', 'Varies with device']\n",
      "['Netflix', 'FAMILY', '4.4', '5453997', 'Varies with device', '100,000,000+', 'Free', '0', 'Teen', 'Entertainment', 'July 31, 2018', 'Varies with device', 'Varies with device']\n"
     ]
    }
   ],
   "source": [
    "app=input('entrer le nom d\\'application : ')\n",
    "for i in data_list_android[1:]:\n",
    "        if (i[0]==app) or (i[0]==app.capitalize()) or (i[0]==app.lower()) or (i[0]==app.upper()):\n",
    "            print(i)   \n",
    "#hangouts,Coursera,zara,mtv,fox,Snapchat,Tumblr,netflix"
   ]
  },
  {
   "cell_type": "code",
   "execution_count": 8,
   "id": "a584cc4f",
   "metadata": {},
   "outputs": [
    {
     "name": "stdout",
     "output_type": "stream",
     "text": [
      "Le nombre des applications dupliqués sont: 1181 \n",
      "\n",
      "['Box', 'BUSINESS', '4.2', '159872', 'Varies with device', '10,000,000+', 'Free', '0', 'Everyone', 'Business', 'July 31, 2018', 'Varies with device', 'Varies with device']\n",
      "\n",
      "\n",
      "['Google My Business', 'BUSINESS', '4.4', '70991', 'Varies with device', '5,000,000+', 'Free', '0', 'Everyone', 'Business', 'July 24, 2018', '2.19.0.204537701', '4.4 and up']\n",
      "\n",
      "\n",
      "['ZOOM Cloud Meetings', 'BUSINESS', '4.4', '31614', '37M', '10,000,000+', 'Free', '0', 'Everyone', 'Business', 'July 20, 2018', '4.1.28165.0716', '4.0 and up']\n",
      "\n",
      "\n",
      "None\n"
     ]
    }
   ],
   "source": [
    "duplicated_app=[]\n",
    "duplicated_app_name=[]\n",
    "unique_app=[]\n",
    "unique_app_name=[]\n",
    "for i in data_list_android[1:]:\n",
    "    if i[0] in unique_app_name:\n",
    "        duplicated_app_name.append(i[0])\n",
    "        duplicated_app.append(i)\n",
    "    else:\n",
    "        unique_app_name.append(i[0])\n",
    "        unique_app.append(i)\n",
    "        \n",
    "print('Le nombre des applications dupliqués sont:',len(duplicated_app_name),'\\n')        \n",
    "print(explore_data(duplicated_app,1,4))\n"
   ]
  },
  {
   "cell_type": "markdown",
   "id": "096c2f9a",
   "metadata": {},
   "source": [
    "### Pour supprimer les applications redondantes, vous devez voir une colonne dont les valeurs sont distincts  .           <font color=\"green\" >=> C'est la quatrieme colonne (Reviews) qui represente le nombre d'avis d'utilisateurs pour l'application.</font>"
   ]
  },
  {
   "cell_type": "markdown",
   "id": "55ed0db8",
   "metadata": {},
   "source": [
    "### Nous avons choisi d'eliminer les lignes redondantes à travers le choix de nombre d'avis d'utilisateurs (reviews) qui est <font color='blue'> la plus proche de la moyenne des reviews de toutes les lignes de cette application </font>."
   ]
  },
  {
   "cell_type": "code",
   "execution_count": 9,
   "id": "7f17c3e1",
   "metadata": {},
   "outputs": [
    {
     "name": "stdout",
     "output_type": "stream",
     "text": [
      "9660\n"
     ]
    }
   ],
   "source": [
    "new_data_list_android=[]\n",
    "for i in unique_app:\n",
    "    apps=[]\n",
    "    for j in duplicated_app:\n",
    "        if i[0]==j[0]:\n",
    "            apps.append(j)    \n",
    "    if len(apps)==0:\n",
    "        new_data_list_android.append(i)\n",
    "    else:\n",
    "        apps.append(i)\n",
    "        somme=0\n",
    "        for x in apps:\n",
    "            somme+=int(x[3])\n",
    "        avg_reviews=round(somme/len(apps))\n",
    "        min_difference=int(apps[0][3])-avg_reviews\n",
    "        for t in apps[1:]:\n",
    "            difference=int(t[3])-avg_reviews\n",
    "            if difference<min_difference:\n",
    "                min_difference=difference\n",
    "                element=t\n",
    "            else:\n",
    "                element=apps[0] \n",
    "        new_data_list_android.append(element)\n",
    "            \n",
    "        \n",
    "\n",
    "print(len(new_data_list_android))"
   ]
  },
  {
   "cell_type": "markdown",
   "id": "1a245dac",
   "metadata": {},
   "source": [
    "### <font color='red'>Supprimer les applications non anglaises</font>"
   ]
  },
  {
   "cell_type": "code",
   "execution_count": 10,
   "id": "a8d75247",
   "metadata": {},
   "outputs": [],
   "source": [
    "def mot_anglais(name):\n",
    "    count=0\n",
    "    for c in name:\n",
    "        if ord(c)>127:\n",
    "            count+=1\n",
    "    if count>3:   \n",
    "        return False\n",
    "    else:\n",
    "            return True "
   ]
  },
  {
   "cell_type": "markdown",
   "id": "a9733db9",
   "metadata": {},
   "source": [
    "#### les applications anglaises dans App store"
   ]
  },
  {
   "cell_type": "code",
   "execution_count": 11,
   "id": "74abe1cd",
   "metadata": {},
   "outputs": [
    {
     "name": "stdout",
     "output_type": "stream",
     "text": [
      "Le nombre des applications restantes est:  6184 \n",
      "\n",
      "['284882215', 'Facebook', '389879808', 'USD', '0.0', '2974676', '212', '3.5', '3.5', '95.0', '4+', 'Social Networking', '37', '1', '29', '1']\n",
      "\n",
      "\n",
      "['389801252', 'Instagram', '113954816', 'USD', '0.0', '2161558', '1289', '4.5', '4.0', '10.23', '12+', 'Photo & Video', '37', '0', '29', '1']\n",
      "\n",
      "\n",
      "['529479190', 'Clash of Clans', '116476928', 'USD', '0.0', '2130805', '579', '4.5', '4.5', '9.24.12', '9+', 'Games', '38', '5', '18', '1']\n",
      "\n",
      "\n",
      "None\n"
     ]
    }
   ],
   "source": [
    "app_anglaise_ios=[]\n",
    "for i in data_list_ios:\n",
    "    if mot_anglais(i[1])==True:\n",
    "        app_anglaise_ios.append(i) \n",
    "        \n",
    "print(\"Le nombre des applications restantes est: \",len(app_anglaise_ios),'\\n')             \n",
    "print(explore_data(app_anglaise_ios,1,4,False) ) "
   ]
  },
  {
   "cell_type": "markdown",
   "id": "f2ca59b2",
   "metadata": {},
   "source": [
    "#### les applications anglaises dans google play store"
   ]
  },
  {
   "cell_type": "code",
   "execution_count": 12,
   "id": "5ed53b1c",
   "metadata": {
    "scrolled": false
   },
   "outputs": [
    {
     "name": "stdout",
     "output_type": "stream",
     "text": [
      "Le nombre des applications restantes est:  9615\n"
     ]
    }
   ],
   "source": [
    "app_anglaise_android=[]\n",
    "for i in new_data_list_android:\n",
    "    if mot_anglais(i[0])==True:\n",
    "        app_anglaise_android.append(i) \n",
    "\n",
    "print(\"Le nombre des applications restantes est: \",len(app_anglaise_android))        "
   ]
  },
  {
   "cell_type": "markdown",
   "id": "cac1a15d",
   "metadata": {},
   "source": [
    "### <font color='red'>Supprimer les applications payantes</font>"
   ]
  },
  {
   "cell_type": "markdown",
   "id": "d3bcfb47",
   "metadata": {},
   "source": [
    "#### Les applications gratuites dans App store"
   ]
  },
  {
   "cell_type": "code",
   "execution_count": 13,
   "id": "eb201317",
   "metadata": {},
   "outputs": [
    {
     "name": "stdout",
     "output_type": "stream",
     "text": [
      "Le nombre des applications restantes est:  3222 \n",
      "\n"
     ]
    }
   ],
   "source": [
    "app_gratuite_ios=[]\n",
    "for i in app_anglaise_ios:\n",
    "    if i[4]=='0.0':\n",
    "        app_gratuite_ios.append(i) \n",
    "        \n",
    "print(\"Le nombre des applications restantes est: \",len(app_gratuite_ios),'\\n')             \n",
    "#print(explore_data(app_gratuite_ios,1,len(app_gratuite_ios),False) ) "
   ]
  },
  {
   "cell_type": "markdown",
   "id": "22c85efe",
   "metadata": {},
   "source": [
    "#### Les applications gratuites dans Google play store"
   ]
  },
  {
   "cell_type": "code",
   "execution_count": 14,
   "id": "d657eae5",
   "metadata": {},
   "outputs": [
    {
     "name": "stdout",
     "output_type": "stream",
     "text": [
      "['Coloring book moana', 'ART_AND_DESIGN', '3.9', '967', '14M', '500,000+', 'Free', '0', 'Everyone', 'Art & Design;Pretend Play', 'January 15, 2018', '2.0.0', '4.0.3 and up']\n",
      "\n",
      "\n",
      "['U Launcher Lite – FREE Live Cool Themes, Hide Apps', 'ART_AND_DESIGN', '4.7', '87510', '8.7M', '5,000,000+', 'Free', '0', 'Everyone', 'Art & Design', 'August 1, 2018', '1.2.4', '4.0.3 and up']\n",
      "\n",
      "\n",
      "['Sketch - Draw & Paint', 'ART_AND_DESIGN', '4.5', '215644', '25M', '50,000,000+', 'Free', '0', 'Teen', 'Art & Design', 'June 8, 2018', 'Varies with device', '4.2 and up']\n",
      "\n",
      "\n",
      "None\n"
     ]
    }
   ],
   "source": [
    "app_gratuite_android=[]\n",
    "for i in app_anglaise_android:\n",
    "    if i[6]=='Free':\n",
    "        app_gratuite_android.append(i) \n",
    "        \n",
    "#print(\"Le nombre des applications restantes est: \",len(app_gratuite_android),'\\n')  \n",
    "print(explore_data(app_gratuite_android,1,4))"
   ]
  },
  {
   "cell_type": "markdown",
   "id": "74c13f07",
   "metadata": {},
   "source": [
    "### <font color='red'>Applications les plus courantes par genre :</font>"
   ]
  },
  {
   "cell_type": "code",
   "execution_count": 15,
   "id": "c3b56fc2",
   "metadata": {},
   "outputs": [],
   "source": [
    "def freq_table(data,indice):\n",
    "    all_genre=[]\n",
    "    for i in data:\n",
    "        all_genre.append(i[indice])\n",
    "    return dict((i,round((all_genre.count(i)/len(all_genre))*100,2)) for i in all_genre)"
   ]
  },
  {
   "cell_type": "markdown",
   "id": "f8e3e95a",
   "metadata": {},
   "source": [
    "### <font color='blue'>methode 1 </font>"
   ]
  },
  {
   "cell_type": "markdown",
   "id": "749f7de7",
   "metadata": {},
   "source": [
    "#### Les applications d'App store"
   ]
  },
  {
   "cell_type": "code",
   "execution_count": 16,
   "id": "d1df90af",
   "metadata": {},
   "outputs": [
    {
     "name": "stdout",
     "output_type": "stream",
     "text": [
      "{'Social Networking': 3.29, 'Photo & Video': 4.97, 'Games': 58.16, 'Music': 2.05, 'Reference': 0.56, 'Health & Fitness': 2.02, 'Weather': 0.87, 'Utilities': 2.51, 'Travel': 1.24, 'Shopping': 2.61, 'News': 1.33, 'Navigation': 0.19, 'Lifestyle': 1.58, 'Entertainment': 7.88, 'Food & Drink': 0.81, 'Sports': 2.14, 'Book': 0.43, 'Finance': 1.12, 'Education': 3.66, 'Productivity': 1.74, 'Business': 0.53, 'Catalogs': 0.12, 'Medical': 0.19}\n"
     ]
    }
   ],
   "source": [
    "ios_dict=freq_table(app_gratuite_ios,11)\n",
    "print(ios_dict)"
   ]
  },
  {
   "cell_type": "code",
   "execution_count": 17,
   "id": "661a15c5",
   "metadata": {},
   "outputs": [
    {
     "data": {
      "text/plain": [
       "[(58.16, 'Games'),\n",
       " (7.88, 'Entertainment'),\n",
       " (4.97, 'Photo & Video'),\n",
       " (3.66, 'Education'),\n",
       " (3.29, 'Social Networking'),\n",
       " (2.61, 'Shopping'),\n",
       " (2.51, 'Utilities'),\n",
       " (2.14, 'Sports'),\n",
       " (2.05, 'Music'),\n",
       " (2.02, 'Health & Fitness'),\n",
       " (1.74, 'Productivity'),\n",
       " (1.58, 'Lifestyle'),\n",
       " (1.33, 'News'),\n",
       " (1.24, 'Travel'),\n",
       " (1.12, 'Finance'),\n",
       " (0.87, 'Weather'),\n",
       " (0.81, 'Food & Drink'),\n",
       " (0.56, 'Reference'),\n",
       " (0.53, 'Business'),\n",
       " (0.43, 'Book'),\n",
       " (0.19, 'Navigation'),\n",
       " (0.19, 'Medical'),\n",
       " (0.12, 'Catalogs')]"
      ]
     },
     "execution_count": 17,
     "metadata": {},
     "output_type": "execute_result"
    }
   ],
   "source": [
    "ios_list_of_tuples = list(zip(ios_dict.values(),ios_dict.keys()))\n",
    "ios_sorted_m1=sorted(ios_list_of_tuples,reverse=True)\n",
    "ios_sorted_m1"
   ]
  },
  {
   "cell_type": "markdown",
   "id": "d1fbad1a",
   "metadata": {},
   "source": [
    "#### Les applications de Google play store"
   ]
  },
  {
   "cell_type": "code",
   "execution_count": 18,
   "id": "261f5a9e",
   "metadata": {},
   "outputs": [
    {
     "name": "stdout",
     "output_type": "stream",
     "text": [
      "{'Art & Design': 0.6, 'Art & Design;Pretend Play': 0.01, 'Art & Design;Creativity': 0.07, 'Art & Design;Action & Adventure': 0.01, 'Auto & Vehicles': 0.93, 'Beauty': 0.6, 'Books & Reference': 2.14, 'Business': 4.58, 'Communication': 3.25, 'Comics': 0.61, 'Comics;Creativity': 0.01, 'Dating': 1.86, 'Education;Education': 0.34, 'Education': 5.35, 'Education;Creativity': 0.05, 'Education;Music & Video': 0.03, 'Education;Action & Adventure': 0.03, 'Education;Pretend Play': 0.06, 'Education;Brain Games': 0.03, 'Entertainment': 6.07, 'Entertainment;Music & Video': 0.17, 'Entertainment;Brain Games': 0.08, 'Entertainment;Creativity': 0.03, 'Events': 0.71, 'Finance': 3.7, 'Food & Drink': 1.24, 'Health & Fitness': 3.07, 'Medical': 3.53, 'House & Home': 0.84, 'Libraries & Demo': 0.94, 'Lifestyle': 3.89, 'Lifestyle;Pretend Play': 0.01, 'Adventure;Action & Adventure': 0.03, 'Arcade': 1.85, 'Casual': 1.76, 'Card': 0.45, 'Casual;Pretend Play': 0.24, 'Action': 3.1, 'Strategy': 0.9, 'Puzzle': 1.13, 'Sports': 3.46, 'Music': 0.2, 'Word': 0.26, 'Racing': 0.99, 'Casual;Creativity': 0.07, 'Casual;Action & Adventure': 0.14, 'Simulation': 2.04, 'Adventure': 0.68, 'Board': 0.37, 'Trivia': 0.42, 'Role Playing': 0.94, 'Action;Action & Adventure': 0.1, 'Casual;Brain Games': 0.14, 'Simulation;Action & Adventure': 0.08, 'Educational;Creativity': 0.03, 'Puzzle;Brain Games': 0.17, 'Educational;Education': 0.39, 'Educational;Brain Games': 0.07, 'Educational;Pretend Play': 0.09, 'Entertainment;Education': 0.01, 'Casual;Education': 0.02, 'Music;Music & Video': 0.02, 'Racing;Action & Adventure': 0.17, 'Arcade;Pretend Play': 0.01, 'Role Playing;Action & Adventure': 0.03, 'Simulation;Pretend Play': 0.02, 'Puzzle;Creativity': 0.02, 'Sports;Action & Adventure': 0.02, 'Educational;Action & Adventure': 0.03, 'Arcade;Action & Adventure': 0.12, 'Entertainment;Action & Adventure': 0.03, 'Puzzle;Action & Adventure': 0.03, 'Strategy;Action & Adventure': 0.01, 'Music & Audio;Music & Video': 0.01, 'Health & Fitness;Education': 0.01, 'Adventure;Education': 0.01, 'Board;Brain Games': 0.09, 'Board;Action & Adventure': 0.02, 'Casual;Music & Video': 0.01, 'Role Playing;Pretend Play': 0.05, 'Entertainment;Pretend Play': 0.02, 'Video Players & Editors;Creativity': 0.01, 'Social': 2.66, 'Shopping': 2.25, 'Photography': 2.95, 'Travel & Local': 2.32, 'Travel & Local;Action & Adventure': 0.01, 'Tools': 8.43, 'Tools;Education': 0.01, 'Personalization': 3.32, 'Productivity': 3.89, 'Parenting': 0.5, 'Parenting;Music & Video': 0.07, 'Parenting;Education': 0.08, 'Parenting;Brain Games': 0.01, 'Weather': 0.8, 'Video Players & Editors': 1.77, 'Video Players & Editors;Music & Video': 0.02, 'News & Magazines': 2.8, 'Maps & Navigation': 1.4, 'Health & Fitness;Action & Adventure': 0.01, 'Educational': 0.37, 'Casino': 0.43, 'Trivia;Education': 0.01, 'Lifestyle;Education': 0.01, 'Card;Action & Adventure': 0.01, 'Books & Reference;Education': 0.01, 'Simulation;Education': 0.01, 'Puzzle;Education': 0.01, 'Role Playing;Brain Games': 0.01, 'Strategy;Education': 0.01, 'Racing;Pretend Play': 0.01, 'Communication;Creativity': 0.01, 'Strategy;Creativity': 0.01}\n"
     ]
    }
   ],
   "source": [
    "android_dict=freq_table(app_gratuite_android,9)\n",
    "print(android_dict)"
   ]
  },
  {
   "cell_type": "code",
   "execution_count": 19,
   "id": "e2d73fb9",
   "metadata": {},
   "outputs": [
    {
     "name": "stdout",
     "output_type": "stream",
     "text": [
      "(6.07, 'Entertainment')\n",
      "\n",
      "\n",
      "(5.35, 'Education')\n",
      "\n",
      "\n",
      "(4.58, 'Business')\n",
      "\n",
      "\n",
      "(3.89, 'Productivity')\n",
      "\n",
      "\n",
      "(3.89, 'Lifestyle')\n",
      "\n",
      "\n",
      "None\n"
     ]
    }
   ],
   "source": [
    "android_list_of_tuples = list(zip(android_dict.values(),android_dict.keys()))\n",
    "android_sorted_m1=sorted(android_list_of_tuples,reverse=True)\n",
    "print(explore_data(android_sorted_m1,1,6))"
   ]
  },
  {
   "cell_type": "markdown",
   "id": "e9d6e8c4",
   "metadata": {},
   "source": [
    "### <font color='blue'>methode 2</font>"
   ]
  },
  {
   "cell_type": "code",
   "execution_count": 20,
   "id": "026c6468",
   "metadata": {},
   "outputs": [],
   "source": [
    "def display_table(dataset, index):\n",
    "    table = freq_table(dataset, index)\n",
    "    table_display = []\n",
    "    for key in table:\n",
    "        key_val_as_tuple = (table[key], key)\n",
    "        table_display.append(key_val_as_tuple)\n",
    "\n",
    "    table_sorted = sorted(table_display, reverse = True)\n",
    "    for entry in table_sorted:\n",
    "        print(entry[1], ':', entry[0])"
   ]
  },
  {
   "cell_type": "markdown",
   "id": "b0cb02c9",
   "metadata": {},
   "source": [
    "#### Les applications d'App store"
   ]
  },
  {
   "cell_type": "code",
   "execution_count": 21,
   "id": "99ab316d",
   "metadata": {},
   "outputs": [
    {
     "name": "stdout",
     "output_type": "stream",
     "text": [
      "Games : 58.16\n",
      "Entertainment : 7.88\n",
      "Photo & Video : 4.97\n",
      "Education : 3.66\n",
      "Social Networking : 3.29\n",
      "Shopping : 2.61\n",
      "Utilities : 2.51\n",
      "Sports : 2.14\n",
      "Music : 2.05\n",
      "Health & Fitness : 2.02\n",
      "Productivity : 1.74\n",
      "Lifestyle : 1.58\n",
      "News : 1.33\n",
      "Travel : 1.24\n",
      "Finance : 1.12\n",
      "Weather : 0.87\n",
      "Food & Drink : 0.81\n",
      "Reference : 0.56\n",
      "Business : 0.53\n",
      "Book : 0.43\n",
      "Navigation : 0.19\n",
      "Medical : 0.19\n",
      "Catalogs : 0.12\n"
     ]
    }
   ],
   "source": [
    "display_ios=display_table(app_gratuite_ios,11) \n",
    "display_ios"
   ]
  },
  {
   "cell_type": "markdown",
   "id": "43b05fa4",
   "metadata": {},
   "source": [
    "#### Les applications de Google play store"
   ]
  },
  {
   "cell_type": "code",
   "execution_count": 22,
   "id": "c421fc69",
   "metadata": {},
   "outputs": [
    {
     "name": "stdout",
     "output_type": "stream",
     "text": [
      "Tools : 8.43\n",
      "Entertainment : 6.07\n",
      "Education : 5.35\n",
      "Business : 4.58\n",
      "Productivity : 3.89\n",
      "Lifestyle : 3.89\n",
      "Finance : 3.7\n",
      "Medical : 3.53\n",
      "Sports : 3.46\n",
      "Personalization : 3.32\n",
      "Communication : 3.25\n",
      "Action : 3.1\n",
      "Health & Fitness : 3.07\n",
      "Photography : 2.95\n",
      "News & Magazines : 2.8\n",
      "Social : 2.66\n",
      "Travel & Local : 2.32\n",
      "Shopping : 2.25\n",
      "Books & Reference : 2.14\n",
      "Simulation : 2.04\n",
      "Dating : 1.86\n",
      "Arcade : 1.85\n",
      "Video Players & Editors : 1.77\n",
      "Casual : 1.76\n",
      "Maps & Navigation : 1.4\n",
      "Food & Drink : 1.24\n",
      "Puzzle : 1.13\n",
      "Racing : 0.99\n",
      "Role Playing : 0.94\n",
      "Libraries & Demo : 0.94\n",
      "Auto & Vehicles : 0.93\n",
      "Strategy : 0.9\n",
      "House & Home : 0.84\n",
      "Weather : 0.8\n",
      "Events : 0.71\n",
      "Adventure : 0.68\n",
      "Comics : 0.61\n",
      "Beauty : 0.6\n",
      "Art & Design : 0.6\n",
      "Parenting : 0.5\n",
      "Card : 0.45\n",
      "Casino : 0.43\n",
      "Trivia : 0.42\n",
      "Educational;Education : 0.39\n",
      "Educational : 0.37\n",
      "Board : 0.37\n",
      "Education;Education : 0.34\n",
      "Word : 0.26\n",
      "Casual;Pretend Play : 0.24\n",
      "Music : 0.2\n",
      "Racing;Action & Adventure : 0.17\n",
      "Puzzle;Brain Games : 0.17\n",
      "Entertainment;Music & Video : 0.17\n",
      "Casual;Brain Games : 0.14\n",
      "Casual;Action & Adventure : 0.14\n",
      "Arcade;Action & Adventure : 0.12\n",
      "Action;Action & Adventure : 0.1\n",
      "Educational;Pretend Play : 0.09\n",
      "Board;Brain Games : 0.09\n",
      "Simulation;Action & Adventure : 0.08\n",
      "Parenting;Education : 0.08\n",
      "Entertainment;Brain Games : 0.08\n",
      "Parenting;Music & Video : 0.07\n",
      "Educational;Brain Games : 0.07\n",
      "Casual;Creativity : 0.07\n",
      "Art & Design;Creativity : 0.07\n",
      "Education;Pretend Play : 0.06\n",
      "Role Playing;Pretend Play : 0.05\n",
      "Education;Creativity : 0.05\n",
      "Role Playing;Action & Adventure : 0.03\n",
      "Puzzle;Action & Adventure : 0.03\n",
      "Entertainment;Creativity : 0.03\n",
      "Entertainment;Action & Adventure : 0.03\n",
      "Educational;Creativity : 0.03\n",
      "Educational;Action & Adventure : 0.03\n",
      "Education;Music & Video : 0.03\n",
      "Education;Brain Games : 0.03\n",
      "Education;Action & Adventure : 0.03\n",
      "Adventure;Action & Adventure : 0.03\n",
      "Video Players & Editors;Music & Video : 0.02\n",
      "Sports;Action & Adventure : 0.02\n",
      "Simulation;Pretend Play : 0.02\n",
      "Puzzle;Creativity : 0.02\n",
      "Music;Music & Video : 0.02\n",
      "Entertainment;Pretend Play : 0.02\n",
      "Casual;Education : 0.02\n",
      "Board;Action & Adventure : 0.02\n",
      "Video Players & Editors;Creativity : 0.01\n",
      "Trivia;Education : 0.01\n",
      "Travel & Local;Action & Adventure : 0.01\n",
      "Tools;Education : 0.01\n",
      "Strategy;Education : 0.01\n",
      "Strategy;Creativity : 0.01\n",
      "Strategy;Action & Adventure : 0.01\n",
      "Simulation;Education : 0.01\n",
      "Role Playing;Brain Games : 0.01\n",
      "Racing;Pretend Play : 0.01\n",
      "Puzzle;Education : 0.01\n",
      "Parenting;Brain Games : 0.01\n",
      "Music & Audio;Music & Video : 0.01\n",
      "Lifestyle;Pretend Play : 0.01\n",
      "Lifestyle;Education : 0.01\n",
      "Health & Fitness;Education : 0.01\n",
      "Health & Fitness;Action & Adventure : 0.01\n",
      "Entertainment;Education : 0.01\n",
      "Communication;Creativity : 0.01\n",
      "Comics;Creativity : 0.01\n",
      "Casual;Music & Video : 0.01\n",
      "Card;Action & Adventure : 0.01\n",
      "Books & Reference;Education : 0.01\n",
      "Art & Design;Pretend Play : 0.01\n",
      "Art & Design;Action & Adventure : 0.01\n",
      "Arcade;Pretend Play : 0.01\n",
      "Adventure;Education : 0.01\n"
     ]
    }
   ],
   "source": [
    "display_android=display_table(app_gratuite_android,9) \n",
    "display_android"
   ]
  },
  {
   "cell_type": "markdown",
   "id": "03f7dac8",
   "metadata": {},
   "source": [
    "### <font color='red'> Analyse des genres d'applications</font>"
   ]
  },
  {
   "cell_type": "markdown",
   "id": "8688f25c",
   "metadata": {},
   "source": [
    "#### Pour l'App Store"
   ]
  },
  {
   "cell_type": "code",
   "execution_count": 23,
   "id": "31141609",
   "metadata": {},
   "outputs": [
    {
     "name": "stdout",
     "output_type": "stream",
     "text": [
      "le genre le plus commun est :  Games => de fréquence:  58.16 %\n",
      "le genre le plus commun suivant est :  Entertainment => de fréquence:  7.88 %\n",
      "Autres genres comme : \n",
      "  Photo & Video => de fréquence:  4.97 % \n",
      " Education => de fréquence:  3.66 %\n",
      " Social Networking => de fréquence:  3.29 %\n"
     ]
    }
   ],
   "source": [
    "print(\"le genre le plus commun est : \",ios_sorted_m1[0][1],'=> de fréquence: ',ios_sorted_m1[0][0],'%')\n",
    "print(\"le genre le plus commun suivant est : \",ios_sorted_m1[1][1],'=> de fréquence: ',ios_sorted_m1[1][0],'%')\n",
    "print(\"Autres genres comme : \\n \",ios_sorted_m1[2][1],'=> de fréquence: ',ios_sorted_m1[2][0],'% \\n',\n",
    "      ios_sorted_m1[3][1],'=> de fréquence: ',ios_sorted_m1[3][0],'%\\n',\n",
    "      ios_sorted_m1[4][1],'=> de fréquence: ',ios_sorted_m1[4][0],'%')"
   ]
  },
  {
   "cell_type": "markdown",
   "id": "4f729276",
   "metadata": {},
   "source": [
    "#### Pour Google play Store\n"
   ]
  },
  {
   "cell_type": "code",
   "execution_count": 24,
   "id": "9e8d1d27",
   "metadata": {},
   "outputs": [
    {
     "name": "stdout",
     "output_type": "stream",
     "text": [
      "le genre le plus commun est :  Tools => de fréquence:  8.43 %\n",
      "le genre le plus commun suivant est :  Entertainment => de fréquence:  6.07 %\n",
      "Autres genres comme : \n",
      "  Education => de fréquence:  5.35 % \n",
      " Business => de fréquence:  4.58 %\n",
      " Productivity => de fréquence:  3.89 %\n"
     ]
    }
   ],
   "source": [
    "print(\"le genre le plus commun est : \",android_sorted_m1[0][1],'=> de fréquence: ',android_sorted_m1[0][0],'%')\n",
    "print(\"le genre le plus commun suivant est : \",android_sorted_m1[1][1],'=> de fréquence: ',android_sorted_m1[1][0],'%')\n",
    "print(\"Autres genres comme : \\n \",android_sorted_m1[2][1],'=> de fréquence: ',android_sorted_m1[2][0],'% \\n',\n",
    "      android_sorted_m1[3][1],'=> de fréquence: ',android_sorted_m1[3][0],'%\\n',\n",
    "     android_sorted_m1[4][1],'=> de fréquence: ',android_sorted_m1[4][0],'%')"
   ]
  },
  {
   "attachments": {},
   "cell_type": "markdown",
   "id": "6ed064e6",
   "metadata": {},
   "source": [
    "### <font color='red'>ANALYSE:</font> Nous avons constate que la plupart des applications conçues pour<font color='green'> le divertissement (jeux, photo et video, reseaux sociaux) </font> et en deuxieme classe nous trouvons des applications pour <font color='green'>objectifs pratiques (education, business,productivity)</font>."
   ]
  },
  {
   "cell_type": "markdown",
   "id": "0f7e85c9",
   "metadata": {},
   "source": [
    "###  <font color='red'>Conclusion:</font> Nous recomandons pour l'App store des applications de genre <font color='green'>Games</font>. Et pour Google play store ,le bon choix c'est de creer des applications de genre  <font color='green'>Developer Tools</font>."
   ]
  },
  {
   "cell_type": "markdown",
   "id": "f409b9d9",
   "metadata": {},
   "source": [
    "### <font color='red'> Applications les plus populaires par genre sur l'App Store en utilisant le user_rating</font>\n"
   ]
  },
  {
   "cell_type": "code",
   "execution_count": 25,
   "id": "f5a28a00",
   "metadata": {},
   "outputs": [
    {
     "name": "stdout",
     "output_type": "stream",
     "text": [
      "{'Social Networking': 2.6666666666666665, 'Photo & Video': 2.25, 'Games': 0.0, 'Music': 3.125, 'Reference': 2.25, 'Health & Fitness': 2.8333333333333335, 'Weather': 3.1, 'Utilities': 1.75, 'Travel': 1.75, 'Shopping': 2.25, 'News': 0.0, 'Navigation': 4.0, 'Lifestyle': 0.0, 'Entertainment': 0.0, 'Food & Drink': 3.5, 'Sports': 0.0, 'Book': 0.0, 'Finance': 0.0, 'Education': 0.0, 'Productivity': 0.0, 'Business': 5.0, 'Catalogs': 4.25, 'Medical': 0.0}\n"
     ]
    }
   ],
   "source": [
    "rating_dict={}\n",
    "for i in range(len(app_gratuite_ios)):\n",
    "    rating_lt=[]\n",
    "    f=float(app_gratuite_ios[i][7])\n",
    "    rating_lt.append(f)\n",
    "    for j in range(len(app_gratuite_ios[i+1:])):\n",
    "        if(app_gratuite_ios[i][11]==app_gratuite_ios[j][11]):\n",
    "                rating_lt.append(float(app_gratuite_ios[j][7]))\n",
    "    rating_dict[app_gratuite_ios[i][11]]=sum(rating_lt)/len(rating_lt)   \n",
    "print(rating_dict)"
   ]
  },
  {
   "cell_type": "markdown",
   "id": "bde69af3",
   "metadata": {},
   "source": [
    "### => D'après les classements des applications ,la meilleur app sur App store est de genre <font color='green'>Business</font>."
   ]
  },
  {
   "cell_type": "markdown",
   "id": "3cd79cc7",
   "metadata": {},
   "source": [
    "### <font color='red'> Applications les plus populaires par genre sur Google app store en utilisant le nombre d'installation </font>\n"
   ]
  },
  {
   "cell_type": "code",
   "execution_count": 26,
   "id": "63b8d106",
   "metadata": {},
   "outputs": [
    {
     "name": "stdout",
     "output_type": "stream",
     "text": [
      "1,000,000+ : 15.75\n",
      "100,000+ : 11.53\n",
      "10,000,000+ : 10.53\n",
      "10,000+ : 10.22\n",
      "1,000+ : 8.41\n",
      "100+ : 6.92\n",
      "5,000,000+ : 6.82\n",
      "500,000+ : 5.57\n",
      "50,000+ : 4.77\n",
      "5,000+ : 4.51\n",
      "10+ : 3.54\n",
      "500+ : 3.25\n",
      "50,000,000+ : 2.28\n",
      "100,000,000+ : 2.12\n",
      "50+ : 1.92\n",
      "5+ : 0.79\n",
      "1+ : 0.51\n",
      "500,000,000+ : 0.27\n",
      "1,000,000,000+ : 0.23\n",
      "0+ : 0.05\n"
     ]
    }
   ],
   "source": [
    "installs_android=display_table(app_gratuite_android,5)\n",
    "installs_android"
   ]
  },
  {
   "cell_type": "markdown",
   "id": "e00ce731",
   "metadata": {},
   "source": [
    "### <font color='purple'>Point de vue:</font> l'analyse des applications selon le genre le plus utilise par les utilisateurs est la meilleure ce qui nous amene a constater que le genre de divertissement est le preferee "
   ]
  }
 ],
 "metadata": {
  "kernelspec": {
   "display_name": "Python 3 (ipykernel)",
   "language": "python",
   "name": "python3"
  },
  "language_info": {
   "codemirror_mode": {
    "name": "ipython",
    "version": 3
   },
   "file_extension": ".py",
   "mimetype": "text/x-python",
   "name": "python",
   "nbconvert_exporter": "python",
   "pygments_lexer": "ipython3",
   "version": "3.10.2"
  }
 },
 "nbformat": 4,
 "nbformat_minor": 5
}
